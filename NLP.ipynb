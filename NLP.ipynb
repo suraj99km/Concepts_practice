{
 "cells": [
  {
   "cell_type": "markdown",
   "metadata": {},
   "source": [
    "## NLP\n",
    "Natural Language Processin (NLP) is a subfield of Artificial Intelligence, in which depths involves the interaction between humans and computers.\n",
    "\n",
    "#### Applications:\n",
    "- Machine Translation.\n",
    "- Speech Recognition.\n",
    "- Sentiment Analysis.\n",
    "- Question Answering.\n",
    "- Summarization of Text.\n",
    "- Chatbot.\n",
    "- Intelligent Systems.\n",
    "- Text Classifications.\n",
    "- Character Recognition.\n",
    "- Spell Checking.\n",
    "- Spam Detection.\n",
    "- Autocomplete.\n",
    "- Named Entity Recognition.\n",
    "- Predictive Typing.\n",
    "\n",
    "Natural Language Processing (NLP) has a non-deterministic approach. In other words, Natural Language Processing can be used to create a new intelligent system that can understand how humans understand and interpret language in different situations.\n",
    "\n",
    "#### Two Approaches:\n",
    "- ##### Rule-based Natural Language Processing: \n",
    "It uses common sense reasoning for processing tasks. For instance, the freezing temperature can lead to death, or hot coffee can burn people’s skin, along with other common sense reasoning tasks. However, this process can take much time, and it requires manual effort.\n",
    "- ##### Statistical Natural Language Processing: \n",
    "It uses large amounts of data and tries to derive conclusions from it. Statistical NLP uses machine learning algorithms to train NLP models. After successful training on large amounts of data, the trained model will have positive outcomes with deduction.\n",
    "\n",
    "<img src = 'https://miro.medium.com/max/674/0*xhcIdl6K7CTmMxcP.png' width = \"500\">\n",
    "\n",
    "#### Components of Natural Language Processing (NLP)\n",
    "<img src = 'https://miro.medium.com/max/455/0*9aT_MdjuT9xXGUdU.png' width =\"500\">\n",
    "\n",
    "#### NLTK (Natural Language Toolkit):\n",
    "The NLTK Python framework is generally used as an education and research tool. It’s not usually used on production applications. However, it can be used to build exciting programs due to its ease of use.\n",
    "\n",
    "Features:\n",
    "- Tokenization.\n",
    "- Part Of Speech tagging (POS).\n",
    "- Named Entity Recognition (NER).\n",
    "- Classification.\n",
    "- Sentiment analysis.\n",
    "- Packages of chatbots.\n",
    "\n",
    "Use-cases:\n",
    "- Recommendation systems.\n",
    "- Sentiment analysis.\n",
    "- Building chatbots.\n",
    "\n",
    "<img src = 'https://miro.medium.com/max/666/0*Urbq4Hiu7OKCvSaP.png' width = \"500\">\n",
    "\n",
    "#### spaCy:\n",
    "spaCy is an open-source natural language processing Python library designed to be fast and production-ready. spaCy focuses on providing software for production usage.\n",
    "\n",
    "Features:\n",
    "- Tokenization.\n",
    "- Part Of Speech tagging (POS).\n",
    "- Named Entity Recognition (NER).\n",
    "- Classification.\n",
    "- Sentiment analysis.\n",
    "- Dependency parsing.\n",
    "- Word vectors.\n",
    "\n",
    "Use-cases:\n",
    "- Autocomplete and autocorrect.\n",
    "- Analyzing reviews.\n",
    "- Summarization.\n",
    "<img src = 'https://miro.medium.com/max/663/0*vmZgJA01FwuZk1_s.png' width = \"500\">\n",
    "\n",
    "#### Gensim:\n",
    "Gensim is an NLP Python framework generally used in topic modeling and similarity detection. It is not a general-purpose NLP library, but it handles tasks assigned to it very well.\n",
    "\n",
    "Features:\n",
    "- Latent semantic analysis.\n",
    "- Non-negative matrix factorization.\n",
    "- TF-IDF.\n",
    "\n",
    "Use-cases:\n",
    "- Converting documents to vectors.\n",
    "- Finding text similarity.\n",
    "- Text summarization.\n",
    "<img src = 'https://miro.medium.com/max/666/0*mD8kDP3YxKGnIItc.png' width = \"500\">\n",
    "\n",
    "#### Pattern:\n",
    "Pattern is an NLP Python framework with straightforward syntax. It’s a powerful tool for scientific and non-scientific tasks. It is highly valuable to students.\n",
    "\n",
    "Features:\n",
    "- Tokenization.\n",
    "- Part of Speech tagging.\n",
    "- Named entity recognition.\n",
    "- Parsing.\n",
    "- Sentiment analysis.\n",
    "\n",
    "Use-cases:\n",
    "- Spelling correction.\n",
    "- Search engine optimization.\n",
    "- Sentiment analysis.\n",
    "<img src = 'https://miro.medium.com/max/667/0*OaDO4k-FeBQ8cAnm.png' width = \"500\">\n",
    "\n",
    "#### TextBlob:\n",
    "TextBlob is a Python library designed for processing textual data.\n",
    "\n",
    "Features:\n",
    "- Part-of-Speech tagging.\n",
    "- Noun phrase extraction.\n",
    "- Sentiment analysis.\n",
    "- Classification.\n",
    "- Language translation.\n",
    "- Parsing.\n",
    "- Wordnet integration.\n",
    "\n",
    "Use-cases:\n",
    "- Sentiment Analysis.\n",
    "- Spelling Correction.\n",
    "- Translation and Language Detection.\n",
    "<img src = 'https://miro.medium.com/max/666/0*wehll2JaLApiVnfW.png' width = \"500\">"
   ]
  },
  {
   "cell_type": "code",
   "execution_count": 1,
   "metadata": {},
   "outputs": [],
   "source": [
    "import nltk # natural language toolkit"
   ]
  },
  {
   "cell_type": "code",
   "execution_count": 2,
   "metadata": {},
   "outputs": [
    {
     "name": "stdout",
     "output_type": "stream",
     "text": [
      "showing info https://raw.githubusercontent.com/nltk/nltk_data/gh-pages/index.xml\n"
     ]
    },
    {
     "data": {
      "text/plain": [
       "True"
      ]
     },
     "execution_count": 2,
     "metadata": {},
     "output_type": "execute_result"
    }
   ],
   "source": [
    "nltk.download()"
   ]
  },
  {
   "cell_type": "code",
   "execution_count": 3,
   "metadata": {},
   "outputs": [],
   "source": [
    "text = \"I had much expectations with a device of 12GB Ram n 256 GB memory n that too when it's from One plus. This phone first of all disappointed for battery backup which drains as fast as it charges. The feel of a 46k device in hand is absolutely missing. Deafualt 12 mp Camera n u always hv to select 48. Photos depth resolution all quality factors missing. Screen goes much bluer n gets auto flicks when you text long. Few apps unnecessarily bundled n mostly required ones u will hv to install. Battery charging is something which could make OnePlus pride of but when it drains so faster so it seems there must be some oxy is formulation beyond this to make charging impressive. Materials used are of not a phone priced at 46K. One plus should update os sooner to have a feeling of a beast on edge. Overall it's highly priced, not at all value for money. Disappointment that One Plus is now no more what it was used to be with its devices, making it the first choice by word mouth by its user is never going to sattle if they don't change batteries, OS and performance of this much expected device.\""
   ]
  },
  {
   "cell_type": "code",
   "execution_count": 4,
   "metadata": {},
   "outputs": [
    {
     "data": {
      "text/plain": [
       "\"I had much expectations with a device of 12GB Ram n 256 GB memory n that too when it's from One plus. This phone first of all disappointed for battery backup which drains as fast as it charges. The feel of a 46k device in hand is absolutely missing. Deafualt 12 mp Camera n u always hv to select 48. Photos depth resolution all quality factors missing. Screen goes much bluer n gets auto flicks when you text long. Few apps unnecessarily bundled n mostly required ones u will hv to install. Battery charging is something which could make OnePlus pride of but when it drains so faster so it seems there must be some oxy is formulation beyond this to make charging impressive. Materials used are of not a phone priced at 46K. One plus should update os sooner to have a feeling of a beast on edge. Overall it's highly priced, not at all value for money. Disappointment that One Plus is now no more what it was used to be with its devices, making it the first choice by word mouth by its user is never going to sattle if they don't change batteries, OS and performance of this much expected device.\""
      ]
     },
     "execution_count": 4,
     "metadata": {},
     "output_type": "execute_result"
    }
   ],
   "source": [
    "text"
   ]
  },
  {
   "cell_type": "code",
   "execution_count": 5,
   "metadata": {},
   "outputs": [],
   "source": [
    "from nltk import sent_tokenize\n",
    "from nltk import word_tokenize"
   ]
  },
  {
   "cell_type": "code",
   "execution_count": 6,
   "metadata": {},
   "outputs": [],
   "source": [
    "sentences = sent_tokenize(text)"
   ]
  },
  {
   "cell_type": "code",
   "execution_count": 7,
   "metadata": {},
   "outputs": [
    {
     "name": "stdout",
     "output_type": "stream",
     "text": [
      "12\n"
     ]
    }
   ],
   "source": [
    "print(len(sentences))"
   ]
  },
  {
   "cell_type": "code",
   "execution_count": 8,
   "metadata": {},
   "outputs": [],
   "source": [
    "words = word_tokenize(text)"
   ]
  },
  {
   "cell_type": "code",
   "execution_count": 9,
   "metadata": {},
   "outputs": [
    {
     "data": {
      "text/plain": [
       "223"
      ]
     },
     "execution_count": 9,
     "metadata": {},
     "output_type": "execute_result"
    }
   ],
   "source": [
    "len(words)"
   ]
  },
  {
   "cell_type": "code",
   "execution_count": 10,
   "metadata": {},
   "outputs": [
    {
     "name": "stdout",
     "output_type": "stream",
     "text": [
      "['I', 'had', 'much', 'expectations', 'with', 'a', 'device', 'of', '12GB', 'Ram', 'n', '256', 'GB', 'memory', 'n', 'that', 'too', 'when', 'it', \"'s\", 'from', 'One', 'plus', '.', 'This', 'phone', 'first', 'of', 'all', 'disappointed', 'for', 'battery', 'backup', 'which', 'drains', 'as', 'fast', 'as', 'it', 'charges', '.', 'The', 'feel', 'of', 'a', '46k', 'device', 'in', 'hand', 'is', 'absolutely', 'missing', '.', 'Deafualt', '12', 'mp', 'Camera', 'n', 'u', 'always', 'hv', 'to', 'select', '48', '.', 'Photos', 'depth', 'resolution', 'all', 'quality', 'factors', 'missing', '.', 'Screen', 'goes', 'much', 'bluer', 'n', 'gets', 'auto', 'flicks', 'when', 'you', 'text', 'long', '.', 'Few', 'apps', 'unnecessarily', 'bundled', 'n', 'mostly', 'required', 'ones', 'u', 'will', 'hv', 'to', 'install', '.', 'Battery', 'charging', 'is', 'something', 'which', 'could', 'make', 'OnePlus', 'pride', 'of', 'but', 'when', 'it', 'drains', 'so', 'faster', 'so', 'it', 'seems', 'there', 'must', 'be', 'some', 'oxy', 'is', 'formulation', 'beyond', 'this', 'to', 'make', 'charging', 'impressive', '.', 'Materials', 'used', 'are', 'of', 'not', 'a', 'phone', 'priced', 'at', '46K', '.', 'One', 'plus', 'should', 'update', 'os', 'sooner', 'to', 'have', 'a', 'feeling', 'of', 'a', 'beast', 'on', 'edge', '.', 'Overall', 'it', \"'s\", 'highly', 'priced', ',', 'not', 'at', 'all', 'value', 'for', 'money', '.', 'Disappointment', 'that', 'One', 'Plus', 'is', 'now', 'no', 'more', 'what', 'it', 'was', 'used', 'to', 'be', 'with', 'its', 'devices', ',', 'making', 'it', 'the', 'first', 'choice', 'by', 'word', 'mouth', 'by', 'its', 'user', 'is', 'never', 'going', 'to', 'sattle', 'if', 'they', 'do', \"n't\", 'change', 'batteries', ',', 'OS', 'and', 'performance', 'of', 'this', 'much', 'expected', 'device', '.']\n"
     ]
    }
   ],
   "source": [
    "print(words)"
   ]
  },
  {
   "cell_type": "code",
   "execution_count": 11,
   "metadata": {},
   "outputs": [],
   "source": [
    "from nltk.probability import FreqDist #to find out frequency of words in the text"
   ]
  },
  {
   "cell_type": "code",
   "execution_count": 12,
   "metadata": {},
   "outputs": [],
   "source": [
    "fdist = FreqDist(words)"
   ]
  },
  {
   "cell_type": "code",
   "execution_count": 13,
   "metadata": {},
   "outputs": [
    {
     "data": {
      "text/plain": [
       "[('.', 12),\n",
       " ('of', 7),\n",
       " ('it', 7),\n",
       " ('to', 6),\n",
       " ('a', 5),\n",
       " ('n', 5),\n",
       " ('is', 5),\n",
       " ('much', 3),\n",
       " ('device', 3),\n",
       " ('when', 3)]"
      ]
     },
     "execution_count": 13,
     "metadata": {},
     "output_type": "execute_result"
    }
   ],
   "source": [
    "fdist.most_common(10)"
   ]
  },
  {
   "cell_type": "code",
   "execution_count": 14,
   "metadata": {},
   "outputs": [
    {
     "data": {
      "image/png": "[encoded data removed]",
      "text/plain": [
       "<Figure size 432x288 with 1 Axes>"
      ]
     },
     "metadata": {
      "needs_background": "light"
     },
     "output_type": "display_data"
    },
    {
     "data": {
      "text/plain": [
       "<matplotlib.axes._subplots.AxesSubplot at 0x22346116608>"
      ]
     },
     "execution_count": 14,
     "metadata": {},
     "output_type": "execute_result"
    }
   ],
   "source": [
    "# Plot the frequency graph to visulize the words frequency in our text\n",
    "\n",
    "import matplotlib.pyplot as plt\n",
    "\n",
    "fdist.plot(12)"
   ]
  },
  {
   "cell_type": "markdown",
   "metadata": {},
   "source": [
    "In the graph above, notice that a period “.” is used nine times in our text. Analytically speaking, punctuation marks are not that important for natural language processing. Therefore, in the next step, we will be removing such punctuation marks."
   ]
  },
  {
   "cell_type": "code",
   "execution_count": 15,
   "metadata": {},
   "outputs": [
    {
     "name": "stdout",
     "output_type": "stream",
     "text": [
      "['i', 'had', 'much', 'expectations', 'with', 'a', 'device', 'of', 'ram', 'n', 'gb', 'memory', 'n', 'that', 'too', 'when', 'it', 'from', 'one', 'plus', 'this', 'phone', 'first', 'of', 'all', 'disappointed', 'for', 'battery', 'backup', 'which', 'drains', 'as', 'fast', 'as', 'it', 'charges', 'the', 'feel', 'of', 'a', 'device', 'in', 'hand', 'is', 'absolutely', 'missing', 'deafualt', 'mp', 'camera', 'n', 'u', 'always', 'hv', 'to', 'select', 'photos', 'depth', 'resolution', 'all', 'quality', 'factors', 'missing', 'screen', 'goes', 'much', 'bluer', 'n', 'gets', 'auto', 'flicks', 'when', 'you', 'text', 'long', 'few', 'apps', 'unnecessarily', 'bundled', 'n', 'mostly', 'required', 'ones', 'u', 'will', 'hv', 'to', 'install', 'battery', 'charging', 'is', 'something', 'which', 'could', 'make', 'oneplus', 'pride', 'of', 'but', 'when', 'it', 'drains', 'so', 'faster', 'so', 'it', 'seems', 'there', 'must', 'be', 'some', 'oxy', 'is', 'formulation', 'beyond', 'this', 'to', 'make', 'charging', 'impressive', 'materials', 'used', 'are', 'of', 'not', 'a', 'phone', 'priced', 'at', 'one', 'plus', 'should', 'update', 'os', 'sooner', 'to', 'have', 'a', 'feeling', 'of', 'a', 'beast', 'on', 'edge', 'overall', 'it', 'highly', 'priced', 'not', 'at', 'all', 'value', 'for', 'money', 'disappointment', 'that', 'one', 'plus', 'is', 'now', 'no', 'more', 'what', 'it', 'was', 'used', 'to', 'be', 'with', 'its', 'devices', 'making', 'it', 'the', 'first', 'choice', 'by', 'word', 'mouth', 'by', 'its', 'user', 'is', 'never', 'going', 'to', 'sattle', 'if', 'they', 'do', 'change', 'batteries', 'os', 'and', 'performance', 'of', 'this', 'much', 'expected', 'device']\n",
      "\n",
      "\n",
      "199\n"
     ]
    }
   ],
   "source": [
    "# Removing the punctuation marks\n",
    "\n",
    "words_no_punc = []\n",
    "\n",
    "for w in words:\n",
    "    if w.isalpha():\n",
    "        words_no_punc.append(w.lower())\n",
    "        \n",
    "print(words_no_punc)\n",
    "print('\\n')\n",
    "print(len(words_no_punc))"
   ]
  },
  {
   "cell_type": "code",
   "execution_count": 16,
   "metadata": {},
   "outputs": [
    {
     "data": {
      "text/plain": [
       "[('of', 7),\n",
       " ('it', 7),\n",
       " ('to', 6),\n",
       " ('a', 5),\n",
       " ('n', 5),\n",
       " ('is', 5),\n",
       " ('much', 3),\n",
       " ('device', 3),\n",
       " ('when', 3),\n",
       " ('one', 3)]"
      ]
     },
     "execution_count": 16,
     "metadata": {},
     "output_type": "execute_result"
    }
   ],
   "source": [
    "fdist = FreqDist(words_no_punc)\n",
    "\n",
    "fdist.most_common(10)"
   ]
  },
  {
   "cell_type": "code",
   "execution_count": 17,
   "metadata": {},
   "outputs": [
    {
     "data": {
      "image/png": "[encoded data removed]",
      "text/plain": [
       "<Figure size 432x288 with 1 Axes>"
      ]
     },
     "metadata": {
      "needs_background": "light"
     },
     "output_type": "display_data"
    },
    {
     "data": {
      "text/plain": [
       "<matplotlib.axes._subplots.AxesSubplot at 0x223469b5c48>"
      ]
     },
     "execution_count": 17,
     "metadata": {},
     "output_type": "execute_result"
    }
   ],
   "source": [
    "fdist.plot(10)"
   ]
  },
  {
   "cell_type": "code",
   "execution_count": 18,
   "metadata": {},
   "outputs": [
    {
     "name": "stdout",
     "output_type": "stream",
     "text": [
      "['i', 'me', 'my', 'myself', 'we', 'our', 'ours', 'ourselves', 'you', \"you're\", \"you've\", \"you'll\", \"you'd\", 'your', 'yours', 'yourself', 'yourselves', 'he', 'him', 'his', 'himself', 'she', \"she's\", 'her', 'hers', 'herself', 'it', \"it's\", 'its', 'itself', 'they', 'them', 'their', 'theirs', 'themselves', 'what', 'which', 'who', 'whom', 'this', 'that', \"that'll\", 'these', 'those', 'am', 'is', 'are', 'was', 'were', 'be', 'been', 'being', 'have', 'has', 'had', 'having', 'do', 'does', 'did', 'doing', 'a', 'an', 'the', 'and', 'but', 'if', 'or', 'because', 'as', 'until', 'while', 'of', 'at', 'by', 'for', 'with', 'about', 'against', 'between', 'into', 'through', 'during', 'before', 'after', 'above', 'below', 'to', 'from', 'up', 'down', 'in', 'out', 'on', 'off', 'over', 'under', 'again', 'further', 'then', 'once', 'here', 'there', 'when', 'where', 'why', 'how', 'all', 'any', 'both', 'each', 'few', 'more', 'most', 'other', 'some', 'such', 'no', 'nor', 'not', 'only', 'own', 'same', 'so', 'than', 'too', 'very', 's', 't', 'can', 'will', 'just', 'don', \"don't\", 'should', \"should've\", 'now', 'd', 'll', 'm', 'o', 're', 've', 'y', 'ain', 'aren', \"aren't\", 'couldn', \"couldn't\", 'didn', \"didn't\", 'doesn', \"doesn't\", 'hadn', \"hadn't\", 'hasn', \"hasn't\", 'haven', \"haven't\", 'isn', \"isn't\", 'ma', 'mightn', \"mightn't\", 'mustn', \"mustn't\", 'needn', \"needn't\", 'shan', \"shan't\", 'shouldn', \"shouldn't\", 'wasn', \"wasn't\", 'weren', \"weren't\", 'won', \"won't\", 'wouldn', \"wouldn't\"]\n"
     ]
    }
   ],
   "source": [
    "from nltk.corpus import stopwords\n",
    "\n",
    "# List of Stop words\n",
    "stopwords = stopwords.words(\"english\")\n",
    "print(stopwords)"
   ]
  },
  {
   "cell_type": "code",
   "execution_count": 19,
   "metadata": {},
   "outputs": [
    {
     "name": "stdout",
     "output_type": "stream",
     "text": [
      "['much', 'expectations', 'device', 'ram', 'gb', 'memory', 'one', 'plus', 'phone', 'first', 'disappointed', 'battery', 'backup', 'drains', 'fast', 'charges', 'feel', 'device', 'hand', 'absolutely', 'missing', 'deafualt', 'mp', 'camera', 'always', 'select', 'photos', 'depth', 'resolution', 'quality', 'factors', 'missing', 'screen', 'goes', 'much', 'bluer', 'gets', 'auto', 'flicks', 'text', 'long', 'apps', 'unnecessarily', 'bundled', 'mostly', 'required', 'ones', 'install', 'battery', 'charging', 'something', 'could', 'make', 'oneplus', 'pride', 'drains', 'faster', 'seems', 'must', 'oxy', 'formulation', 'beyond', 'make', 'charging', 'impressive', 'materials', 'used', 'phone', 'priced', 'one', 'plus', 'update', 'os', 'sooner', 'feeling', 'beast', 'edge', 'overall', 'highly', 'priced', 'value', 'money', 'disappointment', 'one', 'plus', 'used', 'devices', 'making', 'first', 'choice', 'word', 'mouth', 'user', 'never', 'going', 'sattle', 'change', 'batteries', 'os', 'performance', 'much', 'expected', 'device']\n"
     ]
    }
   ],
   "source": [
    "#Removing Stopwords\n",
    "\n",
    "clean_words = []\n",
    "No_words = ['n', 'u','hv']\n",
    "\n",
    "for w in words_no_punc:\n",
    "    if w not in (stopwords + No_words):\n",
    "        clean_words.append(w)\n",
    "        \n",
    "print(clean_words)"
   ]
  },
  {
   "cell_type": "code",
   "execution_count": 20,
   "metadata": {},
   "outputs": [
    {
     "data": {
      "text/plain": [
       "[('much', 3),\n",
       " ('device', 3),\n",
       " ('one', 3),\n",
       " ('plus', 3),\n",
       " ('phone', 2),\n",
       " ('first', 2),\n",
       " ('battery', 2),\n",
       " ('drains', 2),\n",
       " ('missing', 2),\n",
       " ('charging', 2)]"
      ]
     },
     "execution_count": 20,
     "metadata": {},
     "output_type": "execute_result"
    }
   ],
   "source": [
    "fdist = FreqDist(clean_words)\\\n",
    "\n",
    "fdist.most_common(10)"
   ]
  },
  {
   "cell_type": "code",
   "execution_count": 21,
   "metadata": {},
   "outputs": [
    {
     "data": {
      "image/png": "[encoded data removed]",
      "text/plain": [
       "<Figure size 432x288 with 1 Axes>"
      ]
     },
     "metadata": {
      "needs_background": "light"
     },
     "output_type": "display_data"
    },
    {
     "data": {
      "text/plain": [
       "<matplotlib.axes._subplots.AxesSubplot at 0x22345bf2688>"
      ]
     },
     "execution_count": 21,
     "metadata": {},
     "output_type": "execute_result"
    }
   ],
   "source": [
    "fdist.plot(15)"
   ]
  },
  {
   "cell_type": "markdown",
   "metadata": {},
   "source": [
    "### Word Cloud:\n",
    "Word Cloud is a data visualization technique. In which words from a given text display on the main chart. In this technique, more frequent or essential words display in a larger and bolder font, while less frequent or essential words display in smaller or thinner fonts. It is a beneficial technique in NLP that gives us a glance at what text should be analyzed.\n",
    "\n",
    "#### Properties:\n",
    "- font_path: It specifies the path for the fonts we want to use.\n",
    "- width: It specifies the width of the canvas.\n",
    "- height: It specifies the height of the canvas.\n",
    "- min_font_size: It specifies the smallest font size to use.\n",
    "- max_font_size: It specifies the largest font size to use.\n",
    "- font_step: It specifies the step size for the font.\n",
    "- max_words: It specifies the maximum number of words on the word cloud.\n",
    "- stopwords: Our program will eliminate these words.\n",
    "- background_color: It specifies the background color for canvas.\n",
    "- normalize_plurals: It removes the trailing “s” from words."
   ]
  },
  {
   "cell_type": "code",
   "execution_count": 22,
   "metadata": {},
   "outputs": [
    {
     "name": "stdout",
     "output_type": "stream",
     "text": [
      "Requirement already satisfied: wordcloud in c:\\programdata\\anaconda3\\lib\\site-packages (1.8.1)\n",
      "Requirement already satisfied: numpy>=1.6.1 in c:\\programdata\\anaconda3\\lib\\site-packages (from wordcloud) (1.18.1)\n",
      "Requirement already satisfied: matplotlib in c:\\programdata\\anaconda3\\lib\\site-packages (from wordcloud) (3.1.3)\n",
      "Requirement already satisfied: pillow in c:\\programdata\\anaconda3\\lib\\site-packages (from wordcloud) (7.0.0)\n",
      "Requirement already satisfied: python-dateutil>=2.1 in c:\\programdata\\anaconda3\\lib\\site-packages (from matplotlib->wordcloud) (2.8.1)\n",
      "Requirement already satisfied: cycler>=0.10 in c:\\programdata\\anaconda3\\lib\\site-packages (from matplotlib->wordcloud) (0.10.0)\n",
      "Requirement already satisfied: pyparsing!=2.0.4,!=2.1.2,!=2.1.6,>=2.0.1 in c:\\programdata\\anaconda3\\lib\\site-packages (from matplotlib->wordcloud) (2.4.6)\n",
      "Requirement already satisfied: kiwisolver>=1.0.1 in c:\\programdata\\anaconda3\\lib\\site-packages (from matplotlib->wordcloud) (1.1.0)\n",
      "Requirement already satisfied: six>=1.5 in c:\\programdata\\anaconda3\\lib\\site-packages (from python-dateutil>=2.1->matplotlib->wordcloud) (1.14.0)\n",
      "Requirement already satisfied: setuptools in c:\\programdata\\anaconda3\\lib\\site-packages (from kiwisolver>=1.0.1->matplotlib->wordcloud) (45.2.0.post20200210)\n"
     ]
    }
   ],
   "source": [
    "!pip install wordcloud"
   ]
  },
  {
   "cell_type": "code",
   "execution_count": 23,
   "metadata": {},
   "outputs": [],
   "source": [
    "from wordcloud import WordCloud"
   ]
  },
  {
   "cell_type": "code",
   "execution_count": 24,
   "metadata": {},
   "outputs": [
    {
     "data": {
      "text/plain": [
       "(-0.5, 399.5, 199.5, -0.5)"
      ]
     },
     "execution_count": 24,
     "metadata": {},
     "output_type": "execute_result"
    },
    {
     "data": {
      "image/png": "[encoded data removed]",
      "text/plain": [
       "<Figure size 864x864 with 1 Axes>"
      ]
     },
     "metadata": {
      "needs_background": "light"
     },
     "output_type": "display_data"
    }
   ],
   "source": [
    "wordcloud = WordCloud(background_color = 'black').generate(text)\n",
    "\n",
    "plt.figure(figsize = (12,12))\n",
    "plt.imshow(wordcloud)\n",
    "plt.axis('off')"
   ]
  },
  {
   "cell_type": "markdown",
   "metadata": {},
   "source": [
    "#### Word CloudAdvantages:\n",
    "- They are fast.\n",
    "- They are engaging.\n",
    "- They are simple to understand.\n",
    "- They are casual and visually appealing.\n",
    "\n",
    "#### Word Cloud Disadvantages:\n",
    "- They are non-perfect for non-clean data.\n",
    "- They lack the context of words."
   ]
  },
  {
   "cell_type": "markdown",
   "metadata": {},
   "source": [
    "### Stemming:\n",
    "We use Stemming to normalize words. In English and many other languages, a single word can take multiple forms depending upon context used. For instance, the verb “study” can take many forms like “studies,” “studying,” “studied,” and others, depending on its context. When we tokenize words, an interpreter considers these input words as different words even though their underlying meaning is the same. Moreover, as we know that NLP is about analyzing the meaning of content, to resolve this problem, we use stemming.\n",
    "\n",
    "Stemming normalizes the word by truncating the word to its stem word. For example, the words “studies,” “studied,” “studying” will be reduced to “studi,” making all these word forms to refer to only one token. Notice that stemming may not give us a dictionary, grammatical word for a particular set of words."
   ]
  },
  {
   "cell_type": "markdown",
   "metadata": {},
   "source": [
    "#### Porter's Stemmer"
   ]
  },
  {
   "cell_type": "code",
   "execution_count": 25,
   "metadata": {},
   "outputs": [],
   "source": [
    "from nltk.stem import PorterStemmer"
   ]
  },
  {
   "cell_type": "code",
   "execution_count": 26,
   "metadata": {},
   "outputs": [
    {
     "name": "stdout",
     "output_type": "stream",
     "text": [
      "studi\n",
      "studi\n",
      "studi\n",
      "studi\n"
     ]
    }
   ],
   "source": [
    "porter = PorterStemmer()\n",
    "\n",
    "word_list = ['study', 'studies','studying', 'studied']\n",
    "\n",
    "for w in word_list:\n",
    "    print(porter.stem(w))"
   ]
  },
  {
   "cell_type": "code",
   "execution_count": 27,
   "metadata": {},
   "outputs": [
    {
     "name": "stdout",
     "output_type": "stream",
     "text": [
      "studi\n",
      "leav\n",
      "decreas\n",
      "play\n"
     ]
    }
   ],
   "source": [
    "porter = PorterStemmer()\n",
    "\n",
    "word_list = ['study', 'leaves','decreases', 'plays']\n",
    "\n",
    "for w in word_list:\n",
    "    print(porter.stem(w))"
   ]
  },
  {
   "cell_type": "markdown",
   "metadata": {},
   "source": [
    "#### SnowballStemmer"
   ]
  },
  {
   "cell_type": "code",
   "execution_count": 28,
   "metadata": {},
   "outputs": [],
   "source": [
    "from nltk.stem import SnowballStemmer"
   ]
  },
  {
   "cell_type": "code",
   "execution_count": 29,
   "metadata": {},
   "outputs": [
    {
     "name": "stdout",
     "output_type": "stream",
     "text": [
      "studi\n",
      "studi\n",
      "studi\n",
      "studi\n"
     ]
    }
   ],
   "source": [
    "snowball = SnowballStemmer(\"english\")\n",
    "\n",
    "word_list = ['study', 'studies','studying', 'studied']\n",
    "\n",
    "for w in word_list:\n",
    "    print(snowball.stem(w))"
   ]
  },
  {
   "cell_type": "code",
   "execution_count": 30,
   "metadata": {},
   "outputs": [
    {
     "data": {
      "text/plain": [
       "('arabic',\n",
       " 'danish',\n",
       " 'dutch',\n",
       " 'english',\n",
       " 'finnish',\n",
       " 'french',\n",
       " 'german',\n",
       " 'hungarian',\n",
       " 'italian',\n",
       " 'norwegian',\n",
       " 'porter',\n",
       " 'portuguese',\n",
       " 'romanian',\n",
       " 'russian',\n",
       " 'spanish',\n",
       " 'swedish')"
      ]
     },
     "execution_count": 30,
     "metadata": {},
     "output_type": "execute_result"
    }
   ],
   "source": [
    "# Languages supported by SnowballStemmer\n",
    "\n",
    "SnowballStemmer.languages"
   ]
  },
  {
   "cell_type": "markdown",
   "metadata": {},
   "source": [
    "### Various Stemming Algorithms"
   ]
  },
  {
   "cell_type": "markdown",
   "metadata": {},
   "source": [
    "<img src = \"https://miro.medium.com/max/571/0*SbdHUXCVqfmRB6kP.png\" width = \"450\" align = \"left\">\n",
    "<img src = \"https://miro.medium.com/max/571/0*tABz4he4zNACQEzb.png\" width = \"450\" align = \" left\">\n",
    "<img src = \"https://miro.medium.com/max/574/0*KHB_FHhMN3cPzzrm.png\" width = \"450\" align = \"left\"><img src = \"https://miro.medium.com/max/574/0*WsjB74gPvBTVzq4W.png\" width = \"450\" align = \" left\">\n",
    "<img src = \"https://miro.medium.com/max/575/0*fGLAZgi0N3-LzXSR.png\" width = \"450\" align = \"left\">\n",
    "<img src = \"https://miro.medium.com/max/575/0*mSdqa1-yumMaXJko.png\" width = \"450\" align = \" left\">"
   ]
  },
  {
   "cell_type": "markdown",
   "metadata": {},
   "source": [
    "### Lemmatization:\n",
    "Lemmatisation in linguistics is the process of grouping together the inflected forms of a word so they can be analysed as a single item, identified by the word's lemma, or dictionary form.\n",
    "\n",
    "Lemmatization tries to achieve a similar base “stem” for a word. However, what makes it different is that it finds the dictionary word instead of truncating the original word. Stemming does not consider the context of the word. That is why it generates results faster, but it is less accurate than lemmatization.\n",
    "\n",
    "If accuracy is not the project’s final goal, then stemming is an appropriate approach. If higher accuracy is crucial and the project is not on a tight deadline, then the best option is amortization (Lemmatization has a lower processing speed, compared to stemming).\n",
    "\n",
    "Lemmatization takes into account Part Of Speech (POS) values. Also, lemmatization may generate different outputs for different values of POS. We generally have four choices for POS:\n",
    "\n",
    "<img src = \"https://miro.medium.com/max/580/0*6hkS__XTHB8aq62D.png\" width = \"500\">"
   ]
  },
  {
   "cell_type": "code",
   "execution_count": 31,
   "metadata": {},
   "outputs": [],
   "source": [
    "# Lemmatizing\n",
    "\n",
    "from nltk.stem import WordNetLemmatizer"
   ]
  },
  {
   "cell_type": "code",
   "execution_count": 32,
   "metadata": {},
   "outputs": [
    {
     "name": "stdout",
     "output_type": "stream",
     "text": [
      "study\n"
     ]
    }
   ],
   "source": [
    "lemmatizer = WordNetLemmatizer()\n",
    "\n",
    "print(lemmatizer.lemmatize('studies'))"
   ]
  },
  {
   "cell_type": "code",
   "execution_count": 33,
   "metadata": {},
   "outputs": [
    {
     "name": "stdout",
     "output_type": "stream",
     "text": [
      "Study\n",
      "Studies\n",
      "Studying\n",
      "Studied\n"
     ]
    }
   ],
   "source": [
    "word_list = ['Study', 'Studies','Studying', 'Studied']\n",
    "\n",
    "for w in word_list:\n",
    "    print(lemmatizer.lemmatize(w, pos ='v'))"
   ]
  },
  {
   "cell_type": "markdown",
   "metadata": {},
   "source": [
    "The default value of PoS in lemmatization is a noun(n)."
   ]
  },
  {
   "cell_type": "code",
   "execution_count": 34,
   "metadata": {},
   "outputs": [
    {
     "name": "stdout",
     "output_type": "stream",
     "text": [
      "Studies\n",
      "leaf\n",
      "decrease\n",
      "play\n"
     ]
    }
   ],
   "source": [
    "word_list2 = ['Studies','leaves','decreases','plays']\n",
    "\n",
    "for w in word_list2:\n",
    "    print(lemmatizer.lemmatize(w))"
   ]
  },
  {
   "cell_type": "code",
   "execution_count": 35,
   "metadata": {},
   "outputs": [
    {
     "name": "stdout",
     "output_type": "stream",
     "text": [
      "be\n",
      "be\n",
      "be\n",
      "be\n",
      "be\n"
     ]
    }
   ],
   "source": [
    "word_list3 = ['am', 'is','are','was','were']\n",
    "\n",
    "for w in word_list3:\n",
    "    print(lemmatizer.lemmatize(w, pos='v'))"
   ]
  },
  {
   "cell_type": "markdown",
   "metadata": {},
   "source": [
    "### Part of Speech Tagging (PoS tagging):\n",
    "#### Why do we need Part of Speech (POS)?\n",
    "<img src = \"https://miro.medium.com/max/520/0*Pfr8ryMDzs79fckA.png\">\n",
    "\n",
    "Parts of speech(PoS) tagging is crucial for syntactic and semantic analysis. Therefore, for something like the sentence above, the word “can” has several semantic meanings. The first “can” is used for question formation. The second “can” at the end of the sentence is used to represent a container. The first “can” is a verb, and the second “can” is a noun. Giving the word a specific meaning allows the program to handle it correctly in both semantic and syntactic analysis.\n",
    "\n",
    "a list of Part of Speech (PoS) tags with their respective examples:\n",
    "\n",
    "<img src = \"https://miro.medium.com/max/580/0*pVqlmoTyOCCbD2iM.png\" width = \"400\" align =\"left\"><img src = \"https://miro.medium.com/max/574/0*0Wqe4mb7XlEuzT3o.png\" width =\"400\" align =\" left\"> \n",
    "\n",
    "<img src = \"https://miro.medium.com/max/584/0*Xa6-bkoj1QMoHQyj.png\" width = \"400\" align =\"left\"><img src = \"https://miro.medium.com/max/639/0*Ey40IldHM1TOuOP5.png\" width =\"400\" align= \" left\">\n",
    "<img src = \"https://miro.medium.com/max/639/0*JHpz7HFKH3gfOgMA.png\" width =\"400\" align =\" left\">\n",
    "<img src = \"https://miro.medium.com/max/642/0*7F7viWghhDsNXFld.png\" width = \"400\" align = \" left\">"
   ]
  },
  {
   "cell_type": "markdown",
   "metadata": {},
   "source": [
    "<img src = \"https://miro.medium.com/max/646/0*fC1oE7NOarrgjrrD.png\" width = \"400\" align = \"left\"><img src = \"https://miro.medium.com/max/648/0*QZeBpos0c-k9n6y1.png\" width = \"400\" align = \" left\">\n",
    "<img src = \"https://miro.medium.com/max/644/0*VTGHAxXWRL6KHm1s.png\" width = \"400\" align = \"left\">\n",
    "<img src = \"https://miro.medium.com/max/649/0*j1o7kC638lLVqdQR.png\" width = \"400\" align = \" left\">\n",
    "<img src = \"https://miro.medium.com/max/580/0*YCfrOBFC-c4mQcDZ.png\" width = \"400\" align = \"left\">\n",
    "<img src = \"https://miro.medium.com/max/585/0*cgWdK669miFj6l9L.png\" width = \"400\" align = \" left\">"
   ]
  },
  {
   "cell_type": "markdown",
   "metadata": {},
   "source": [
    "<img src = \"https://miro.medium.com/max/580/0*7XoXCnQRP1QpABEw.png\" width = \"400\" align = \"left\"><img src = \"https://miro.medium.com/max/583/0*q4QrRaZTqAZJeMxJ.png\" width = \"400\" align = \" left\">\n",
    "<img src = \"https://miro.medium.com/max/581/0*hJvYdbp02RkiK9xV.png\" width = \"400\" align = \"left\">\n",
    "<img src = \"https://miro.medium.com/max/576/0*WSlzeFGgyoMrscn8.png\" width = \"400\" align = \" left\">"
   ]
  },
  {
   "cell_type": "markdown",
   "metadata": {},
   "source": [
    "<img src = \"https://miro.medium.com/max/576/0*WSlzeFGgyoMrscn8.png\" width = \"400\" align = \"left\">\n",
    "<img src = \"https://miro.medium.com/max/580/0*PfErkzvWP5QcSMgS.png\" width = \"400\" align = \" left\">\n",
    "<img src = \"https://miro.medium.com/max/580/0*vpKbFmcZ5mc1v5fi.png\" width = \"400\" align = \"left\">\n",
    "<img src = \"https://miro.medium.com/max/580/0*4HaC0Bvhux_7j-LO.png\" width = \"400\" align = \" left\">\n",
    "<img src = \"https://miro.medium.com/max/575/0*UXl2J2vfE947jnWo.png\" width = \"400\" align = \"left\">\n",
    "<img src = \"https://miro.medium.com/max/576/0*ElGPogrMAUMkoz5h.png\" width = \"400\" align = \" left\">\n",
    "<img src = \"https://miro.medium.com/max/580/0*fK3zizNkjQbb7F4P.png\" width = \"400\" align = \"left\">\n",
    "<img src = \"https://miro.medium.com/max/596/0*eWc8xlD-6Su0v2kA.png\" width = \"400\" align = \" left\">"
   ]
  },
  {
   "cell_type": "markdown",
   "metadata": {},
   "source": [
    "<img src = \"https://miro.medium.com/max/583/0*mAWNhZMnCyi0u5z8.png\" width = \"400\" align = \"left\">\n",
    "<img src = \"https://miro.medium.com/max/575/0*s-q_oJHHK5h8cVkr.png\" width = \"400\" align = \" left\">\n",
    "<img src = \"https://miro.medium.com/max/572/0*hGgsIUgUD-fO7mPF.png\" width = \"400\" align = \"left\">\n",
    "<img src = \"https://miro.medium.com/max/579/0*rmGO8Ze2rPpFyT8g.png\" width = \"400\" align = \" left\">"
   ]
  },
  {
   "cell_type": "markdown",
   "metadata": {},
   "source": [
    "<img src = \"https://miro.medium.com/max/574/0*EWQxgolNKfaWOB1L.png\" width = \"400\" align = \"left\">\n",
    "<img src = \"https://miro.medium.com/max/578/0*r2xoVzWYPF_ruTEI.png\" width = \"400\" align = \" left\">\n",
    "<img src = \"https://miro.medium.com/max/573/0*BW4JHamgaBn2_f_p.png\" width = \"400\" align = \"left\">\n",
    "<img src = \"https://miro.medium.com/max/581/0*JlEfCsna3Tg8T11d.png\" width = \"400\" align = \" left\">"
   ]
  },
  {
   "cell_type": "markdown",
   "metadata": {},
   "source": [
    "<img src = \"https://miro.medium.com/max/577/0*30dN2XDFWT-rbh_H.png\" width = \"400\" align = \"left\">\n",
    "<img src = \"https://miro.medium.com/max/572/0*SzFDqZYlnOBCoKWA.png\" width = \"400\" align = \" left\">\n",
    "<img src = \"https://miro.medium.com/max/579/0*61DAL4cZCb9GKT78.png\" width = \"400\" align = \"left\">\n",
    "<img src = \"https://miro.medium.com/max/572/0*ya9ZzGh41SibcPx9.png\" width = \"400\" align = \" left\">"
   ]
  },
  {
   "cell_type": "code",
   "execution_count": 37,
   "metadata": {},
   "outputs": [
    {
     "name": "stdout",
     "output_type": "stream",
     "text": [
      "[('Studying', 'VBG'), ('Study', 'NN')]\n"
     ]
    }
   ],
   "source": [
    "#PoS Tagging:\n",
    "tag = nltk.pos_tag([\"Studying\", \"Study\"])\n",
    "print(tag)"
   ]
  },
  {
   "cell_type": "code",
   "execution_count": 42,
   "metadata": {},
   "outputs": [
    {
     "data": {
      "text/plain": [
       "[('A', 'DT'),\n",
       " ('beautiful', 'JJ'),\n",
       " ('young', 'JJ'),\n",
       " ('lady', 'NN'),\n",
       " ('is', 'VBZ'),\n",
       " ('walking', 'VBG'),\n",
       " ('on', 'IN'),\n",
       " ('the', 'DT'),\n",
       " ('beach', 'NN'),\n",
       " ('.', '.')]"
      ]
     },
     "execution_count": 42,
     "metadata": {},
     "output_type": "execute_result"
    }
   ],
   "source": [
    "sentence = \"A beautiful young lady is walking on the beach.\"\n",
    "\n",
    "tokenized_words = word_tokenize(sentence)\n",
    "\n",
    "for words in tokenized_words:\n",
    "    tagged_words = nltk.pos_tag(tokenized_words)\n",
    "    \n",
    "tagged_words"
   ]
  },
  {
   "cell_type": "markdown",
   "metadata": {},
   "source": [
    "### Chunking:\n",
    "Chunking means to extract meaningful phrases from unstructured text. By tokenizing a book into words, it’s sometimes hard to infer meaningful information. It works on top of Part of Speech(PoS) tagging. Chunking takes PoS tags as input and provides chunks as output. Chunking literally means a group of words, which breaks simple text into phrases that are more meaningful than individual words.\n",
    "\n",
    "<img src = \"https://miro.medium.com/max/257/0*Wp_sjVLHk4PV-s-2.png\" >\n",
    "\n",
    "Meaningful groups of words are called phrases. There are five significant categories of phrases.\n",
    "Noun Phrases (NP).\n",
    "Verb Phrases (VP).\n",
    "Adjective Phrases (ADJP).\n",
    "Adverb Phrases (ADVP).\n",
    "Prepositional Phrases (PP).\n",
    "Phrase structure rules:\n",
    "S(Sentence) → NP VP.\n",
    "NP → {Determiner, Noun, Pronoun, Proper name}.\n",
    "VP → V (NP)(PP)(Adverb).\n",
    "PP → Pronoun (NP).\n",
    "AP → Adjective (PP).\n",
    "\n",
    "Example:\n",
    "<img src =\"https://miro.medium.com/max/700/0*5XsP_0a508EurdxH.png\">"
   ]
  },
  {
   "cell_type": "code",
   "execution_count": 43,
   "metadata": {},
   "outputs": [
    {
     "name": "stdout",
     "output_type": "stream",
     "text": [
      "(S\n",
      "  (NP A/DT beautiful/JJ young/JJ lady/NN)\n",
      "  is/VBZ\n",
      "  walking/VBG\n",
      "  on/IN\n",
      "  (NP the/DT beach/NN)\n",
      "  ./.)\n"
     ]
    }
   ],
   "source": [
    "# Extracting the noun phrase from the text:\n",
    "\n",
    "# ? - optional character\n",
    "# * - 0 or more repetitions\n",
    "\n",
    "grammar = \"NP : {<DT>?<JJ>*<NN>}\"\n",
    "\n",
    "#Creating a parser:\n",
    "parser = nltk.RegexpParser(grammar)\n",
    "\n",
    "#Parsing text:\n",
    "output = parser.parse(tagged_words)\n",
    "print(output)\n",
    "\n",
    "#To visualize:\n",
    "output.draw()"
   ]
  },
  {
   "cell_type": "markdown",
   "metadata": {},
   "source": [
    "### Chinking:\n",
    "Chinking excludes a part from our chunk. There are certain situations where we need to exclude a part of the text from the whole text or chunk. In complex extractions, it is possible that chunking can output unuseful data. In such case scenarios, we can use chinking to exclude some parts from that chunked text.\n",
    "In the following example, we are going to take the whole string as a chunk, and then we are going to exclude adjectives from it by using chinking. We generally use chinking when we have a lot of unuseful data even after chunking. Hence, by using this method, we can easily set that apart, also to write chinking grammar, we have to use inverted curly braces, i.e.:\n",
    "\n",
    "##### } write chinking grammar here {"
   ]
  },
  {
   "cell_type": "code",
   "execution_count": 45,
   "metadata": {},
   "outputs": [
    {
     "name": "stdout",
     "output_type": "stream",
     "text": [
      "(S\n",
      "  (NP A/DT)\n",
      "  beautiful/JJ\n",
      "  young/JJ\n",
      "  (NP lady/NN is/VBZ walking/VBG on/IN the/DT beach/NN ./.))\n"
     ]
    }
   ],
   "source": [
    "# * - 0 or more repetitions\n",
    "# + - 1 or more repetitions\n",
    "\n",
    "#Here we are taking whole string and then excluding objectives from that chunk.\n",
    "\n",
    "grammar = r\"\"\" NP : {<.*>+}\n",
    "                    }<JJ>+{\"\"\"\n",
    "\n",
    "# Creating parser:\n",
    "parser = nltk.RegexpParser(grammar)\n",
    "\n",
    "#parsing string:\n",
    "output = parser.parse(tagged_words)\n",
    "print(output)\n",
    "\n",
    "#To visualize:\n",
    "output.draw()"
   ]
  },
  {
   "cell_type": "markdown",
   "metadata": {},
   "source": [
    "### Named Entity Recognition (NER):\n",
    "Named entity recognition can automatically scan entire articles and pull out some fundamental entities like people, organizations, places, date, time, money, and GPE discussed in them.\n",
    "Use-Cases:\n",
    "- Content classification for news channels.\n",
    "- Summarizing resumes.\n",
    "- Optimizing search engine algorithms.\n",
    "- Recommendation systems.\n",
    "- Customer support.\n",
    "\n",
    "Commonly used types of named entity:\n",
    "<img src =\"https://miro.medium.com/max/583/0*CZhqg9H6H1FTwKMo.png\" width = 500>\n",
    "\n",
    "1. binary = True: When the binary value is True, then it will only show whether a particular entity is named entity or not. It will not show any further details on it.\n"
   ]
  },
  {
   "cell_type": "code",
   "execution_count": 50,
   "metadata": {},
   "outputs": [
    {
     "name": "stdout",
     "output_type": "stream",
     "text": [
      "(S\n",
      "  (NE Mr./NNP Smith/NNP)\n",
      "  made/VBD\n",
      "  a/DT\n",
      "  deal/NN\n",
      "  on/IN\n",
      "  a/DT\n",
      "  beach/NN\n",
      "  of/IN\n",
      "  (NE Switzerland/NNP)\n",
      "  near/IN\n",
      "  (NE WHO/NNP)\n",
      "  ./.)\n"
     ]
    }
   ],
   "source": [
    "sentence = \"Mr. Smith made a deal on a beach of Switzerland near WHO.\"\n",
    "\n",
    "tokenized_words = word_tokenize(sentence)\n",
    "\n",
    "for word in tokenized_words:\n",
    "    tagged_words = nltk.pos_tag(tokenized_words)\n",
    "    \n",
    "N_E_R = nltk.ne_chunk(tagged_words,binary = True)\n",
    "\n",
    "print(N_E_R)\n",
    "\n",
    "N_E_R.draw()"
   ]
  },
  {
   "cell_type": "markdown",
   "metadata": {},
   "source": [
    "2. binary = False: \n",
    "When the binary value equals False, it shows in detail the type of named entities."
   ]
  },
  {
   "cell_type": "code",
   "execution_count": 51,
   "metadata": {},
   "outputs": [
    {
     "name": "stdout",
     "output_type": "stream",
     "text": [
      "(S\n",
      "  (PERSON Mr./NNP)\n",
      "  (PERSON Smith/NNP)\n",
      "  made/VBD\n",
      "  a/DT\n",
      "  deal/NN\n",
      "  on/IN\n",
      "  a/DT\n",
      "  beach/NN\n",
      "  of/IN\n",
      "  (GPE Switzerland/NNP)\n",
      "  near/IN\n",
      "  (ORGANIZATION WHO/NNP)\n",
      "  ./.)\n"
     ]
    }
   ],
   "source": [
    "sentence = \"Mr. Smith made a deal on a beach of Switzerland near WHO.\"\n",
    "\n",
    "tokenized_words = word_tokenize(sentence)\n",
    "\n",
    "for word in tokenized_words:\n",
    "    tagged_words = nltk.pos_tag(tokenized_words)\n",
    "    \n",
    "N_E_R = nltk.ne_chunk(tagged_words,binary = False)\n",
    "\n",
    "print(N_E_R)\n",
    "\n",
    "N_E_R.draw()"
   ]
  },
  {
   "cell_type": "markdown",
   "metadata": {},
   "source": [
    "### WordNet:\n",
    "\n",
    "Wordnet is a lexical database for the English language. Wordnet is a part of the NLTK corpus. We can use Wordnet to find meanings of words, synonyms, antonyms, and many other words."
   ]
  },
  {
   "cell_type": "code",
   "execution_count": 52,
   "metadata": {},
   "outputs": [
    {
     "name": "stdout",
     "output_type": "stream",
     "text": [
      "Synset('fun.n.01')\n",
      "Synset('fun.n.02')\n",
      "Synset('fun.n.03')\n",
      "Synset('playfulness.n.02')\n"
     ]
    }
   ],
   "source": [
    "# We can check how many different definitions of a word are available in Wordnet.\n",
    "\n",
    "from nltk.corpus import wordnet\n",
    "\n",
    "for words in wordnet.synsets(\"Fun\"):\n",
    "    print(words)"
   ]
  },
  {
   "cell_type": "code",
   "execution_count": 53,
   "metadata": {},
   "outputs": [
    {
     "name": "stdout",
     "output_type": "stream",
     "text": [
      "Lemma('fun.n.01.fun')\n",
      "Lemma('fun.n.01.merriment')\n",
      "Lemma('fun.n.01.playfulness')\n",
      "\n",
      "\n",
      "Lemma('fun.n.02.fun')\n",
      "Lemma('fun.n.02.play')\n",
      "Lemma('fun.n.02.sport')\n",
      "\n",
      "\n",
      "Lemma('fun.n.03.fun')\n",
      "\n",
      "\n",
      "Lemma('playfulness.n.02.playfulness')\n",
      "Lemma('playfulness.n.02.fun')\n",
      "\n",
      "\n"
     ]
    }
   ],
   "source": [
    "# We can also check the meaning of those different definitions.\n",
    "\n",
    "for words in wordnet.synsets(\"Fun\"):\n",
    "    for lemma in words.lemmas():\n",
    "        print(lemma)\n",
    "    print('\\n')"
   ]
  },
  {
   "cell_type": "code",
   "execution_count": 54,
   "metadata": {},
   "outputs": [
    {
     "name": "stdout",
     "output_type": "stream",
     "text": [
      "play.n.01\n",
      "a dramatic work intended for performance by actors on a stage\n",
      "['he wrote several plays but only one was produced on Broadway']\n"
     ]
    }
   ],
   "source": [
    "# All details for a word.\n",
    "\n",
    "word = wordnet.synsets(\"Play\")[0]\n",
    "\n",
    "print(word.name())\n",
    "\n",
    "print(word.definition())\n",
    "\n",
    "print(word.examples())"
   ]
  },
  {
   "cell_type": "code",
   "execution_count": 56,
   "metadata": {},
   "outputs": [
    {
     "name": "stdout",
     "output_type": "stream",
     "text": [
      "fun.n.01\n",
      "activities that are enjoyable or amusing\n",
      "['I do it for the fun of it', 'he is fun to have around']\n",
      "Lemma('fun.n.01.fun')\n",
      "Lemma('fun.n.01.merriment')\n",
      "Lemma('fun.n.01.playfulness')\n",
      "\n",
      "\n",
      "fun.n.02\n",
      "verbal wit or mockery (often at another's expense but not to be taken seriously)\n",
      "['he became a figure of fun', 'he said it in sport']\n",
      "Lemma('fun.n.02.fun')\n",
      "Lemma('fun.n.02.play')\n",
      "Lemma('fun.n.02.sport')\n",
      "\n",
      "\n",
      "fun.n.03\n",
      "violent and excited activity\n",
      "['she asked for money and then the fun began', 'they began to fight like fun']\n",
      "Lemma('fun.n.03.fun')\n",
      "\n",
      "\n",
      "playfulness.n.02\n",
      "a disposition to find (or make) causes for amusement\n",
      "['her playfulness surprised me', 'he was fun to be with']\n",
      "Lemma('playfulness.n.02.playfulness')\n",
      "Lemma('playfulness.n.02.fun')\n",
      "\n",
      "\n"
     ]
    }
   ],
   "source": [
    "# All details for all meanings of a word.\n",
    "\n",
    "for words in wordnet.synsets(\"Fun\"):\n",
    "    print(words.name())\n",
    "    print(words.definition())\n",
    "    print(words.examples())\n",
    "    \n",
    "    for lemma in words.lemmas():\n",
    "        print(lemma)\n",
    "    print(\"\\n\")"
   ]
  },
  {
   "cell_type": "code",
   "execution_count": 57,
   "metadata": {},
   "outputs": [
    {
     "name": "stdout",
     "output_type": "stream",
     "text": [
      "[Synset('dramatic_composition.n.01')]\n"
     ]
    }
   ],
   "source": [
    "# Hypernyms: Hypernyms gives us a more abstract term for a word.\n",
    "\n",
    "word = wordnet.synsets(\"Play\")[0]\n",
    "\n",
    "print(word.hypernyms())"
   ]
  },
  {
   "cell_type": "code",
   "execution_count": 58,
   "metadata": {},
   "outputs": [
    {
     "data": {
      "text/plain": [
       "[Synset('grand_guignol.n.01'),\n",
       " Synset('miracle_play.n.01'),\n",
       " Synset('morality_play.n.01'),\n",
       " Synset('mystery_play.n.01'),\n",
       " Synset('passion_play.n.01'),\n",
       " Synset('playlet.n.01'),\n",
       " Synset('satyr_play.n.01'),\n",
       " Synset('theater_of_the_absurd.n.01')]"
      ]
     },
     "execution_count": 58,
     "metadata": {},
     "output_type": "execute_result"
    }
   ],
   "source": [
    "# Hyponyms: Hyponyms gives us a more specific term for a word.\n",
    "word = wordnet.synsets(\"Play\")[0]\n",
    "\n",
    "word.hyponyms()"
   ]
  },
  {
   "cell_type": "code",
   "execution_count": 59,
   "metadata": {},
   "outputs": [
    {
     "name": "stdout",
     "output_type": "stream",
     "text": [
      "play\n"
     ]
    }
   ],
   "source": [
    "#Get a name only.\n",
    "word = wordnet.synsets(\"Play\")[0]\n",
    "\n",
    "print(word.lemmas()[0].name())"
   ]
  },
  {
   "cell_type": "code",
   "execution_count": 63,
   "metadata": {},
   "outputs": [
    {
     "data": {
      "text/plain": [
       "['playfulness',\n",
       " 'fun',\n",
       " 'playfulness',\n",
       " 'fun',\n",
       " 'playfulness',\n",
       " 'fun',\n",
       " 'playfulness',\n",
       " 'fun']"
      ]
     },
     "execution_count": 63,
     "metadata": {},
     "output_type": "execute_result"
    }
   ],
   "source": [
    "# Synonyms.\n",
    "synonyms = []\n",
    "\n",
    "for word in wordnet.synsets(\"Fun\"):\n",
    "    for lemma in words.lemmas():\n",
    "        synonyms.append(lemma.name())\n",
    "\n",
    "synonyms"
   ]
  },
  {
   "cell_type": "code",
   "execution_count": 66,
   "metadata": {},
   "outputs": [
    {
     "data": {
      "text/plain": [
       "['unnatural', 'artificial', 'supernatural', 'sharp']"
      ]
     },
     "execution_count": 66,
     "metadata": {},
     "output_type": "execute_result"
    }
   ],
   "source": [
    "# Antonyms.\n",
    "antonyms = []\n",
    "\n",
    "for word in wordnet.synsets(\"Natural\"):\n",
    "    for lemma in word.lemmas():\n",
    "        if lemma.antonyms():\n",
    "            antonyms.append(lemma.antonyms()[0].name())\n",
    "            \n",
    "antonyms"
   ]
  },
  {
   "cell_type": "code",
   "execution_count": 69,
   "metadata": {},
   "outputs": [
    {
     "name": "stdout",
     "output_type": "stream",
     "text": [
      "['new', 'fresh', 'new', 'novel', 'raw', 'new', 'new', 'unexampled', 'new', 'new', 'newfangled', 'new', 'New', 'Modern', 'New', 'new', 'young', 'new', 'newly', 'freshly', 'fresh', 'new']\n",
      "\n",
      "\n",
      "['old', 'worn']\n"
     ]
    }
   ],
   "source": [
    "synonyms = []\n",
    "antonyms = []\n",
    "\n",
    "for word in wordnet.synsets(\"New\"):\n",
    "    for lemma in word.lemmas():\n",
    "        synonyms.append(lemma.name())\n",
    "        if lemma.antonyms():\n",
    "            antonyms.append(lemma.antonyms()[0].name())\n",
    "            \n",
    "print(synonyms)\n",
    "print(\"\\n\")\n",
    "print(antonyms)"
   ]
  },
  {
   "cell_type": "code",
   "execution_count": 71,
   "metadata": {},
   "outputs": [
    {
     "name": "stdout",
     "output_type": "stream",
     "text": [
      "0.9090909090909091\n"
     ]
    }
   ],
   "source": [
    "# Finding the similarity between words.\n",
    "word1 = wordnet.synsets('ship','n')[0]\n",
    "word2 = wordnet.synsets('boat','n')[0]\n",
    "\n",
    "print(word1.wup_similarity(word2))"
   ]
  },
  {
   "cell_type": "code",
   "execution_count": 75,
   "metadata": {},
   "outputs": [
    {
     "name": "stdout",
     "output_type": "stream",
     "text": [
      "0.6956521739130435\n"
     ]
    }
   ],
   "source": [
    "# Finding the similarity between words.\n",
    "word1 = wordnet.synsets('ship','n')[0]\n",
    "word2 = wordnet.synsets('bike','n')[0]\n",
    "\n",
    "print(word1.wup_similarity(word2))"
   ]
  },
  {
   "cell_type": "markdown",
   "metadata": {},
   "source": [
    "### Bag of Words:\n",
    "#### What is the Bag-of-Words method?\n",
    "\n",
    "It is a method of extracting essential features from row text so that we can use it for machine learning models. We call it “Bag” of words because we discard the order of occurrences of words. A bag of words model converts the raw text into words, and it also counts the frequency for the words in the text. In summary, a bag of words is a collection of words that represent a sentence along with the word count where the order of occurrences is not relevant.\n",
    "\n",
    "- Raw Text: This is the original text on which we want to perform analysis.\n",
    "- Clean Text: Since our raw text contains some unnecessary data like punctuation marks and stopwords, so we need to clean up our text. Clean text is the text after removing such words.\n",
    "- Tokenize: Tokenization represents the sentence as a group of tokens or words.\n",
    "- Building Vocab: It contains total words used in the text after removing unnecessary data.\n",
    "- Generate Vocab: It contains the words along with their frequencies in the sentences.\n",
    "\n",
    "Applications:\n",
    "- Natural language processing.\n",
    "- Information retrieval from documents.\n",
    "- Classifications of documents.\n",
    "\n",
    "Limitations:\n",
    "- Semantic meaning: It does not consider the semantic meaning of a word. It ignores the context in which the word is used.\n",
    "- Vector size: For large documents, the vector size increase, which may result in higher computational time.\n",
    "- Preprocessing: In preprocessing, we need to perform data cleansing before using it.\n",
    "\n",
    "For instance:\n",
    "\n",
    "Sentences:\n",
    "1. Jim and Pam traveled by bus.\n",
    "2. The train was late.\n",
    "3. The flight was full. Traveling by flight is expensive.\n",
    "\n",
    "<img src = \"https://miro.medium.com/max/576/0*6uySQ0MYWTowhp4C.png\" width = 400 align = 'left'>\n",
    "<img src = \"https://miro.medium.com/max/578/0*hfAuZhm0-pETOmFR.png\" width = 400 align = ' left'>\n",
    "<br>\n",
    "<br>\n",
    "<br>\n",
    "<img src = \"https://miro.medium.com/max/591/0*OWJN3fZAlPhhRRDM.png\" width = 400 align = 'left'>\n",
    "<img src = \"https://miro.medium.com/max/578/0*2FsPqVBihclU51kT.png\" width = 400 align = ' left'>\n"
   ]
  },
  {
   "cell_type": "code",
   "execution_count": 78,
   "metadata": {},
   "outputs": [
    {
     "name": "stdout",
     "output_type": "stream",
     "text": [
      "{'jim': 7, 'and': 0, 'pam': 9, 'travelled': 12, 'by': 2, 'bus': 1, 'the': 10, 'train': 11, 'was': 14, 'late': 8, 'flight': 4, 'full': 5, 'travelling': 13, 'is': 6, 'expensive': 3}\n",
      "\n",
      "\n",
      "['and', 'bus', 'by', 'expensive', 'flight', 'full', 'is', 'jim', 'late', 'pam', 'the', 'train', 'travelled', 'travelling', 'was']\n",
      "\n",
      "\n",
      "[[1 1 1 0 0 0 0 1 0 1 0 0 1 0 0]\n",
      " [0 0 0 0 0 0 0 0 1 0 1 1 0 0 1]\n",
      " [0 0 1 1 2 1 1 0 0 0 1 0 0 1 1]]\n"
     ]
    }
   ],
   "source": [
    "from sklearn.feature_extraction.text import CountVectorizer\n",
    "\n",
    "sentences = [\"Jim and Pam travelled by bus.\",\n",
    "            \" The train was late\", \"The flight was full. Travelling by flight is expensive.\"]\n",
    "\n",
    "cv = CountVectorizer()\n",
    "\n",
    "# Generating output for Bag of words:\n",
    "B_O_W = cv.fit_transform(sentences).toarray()\n",
    "\n",
    "# Total words with their index in model:\n",
    "print(cv.vocabulary_)\n",
    "print(\"\\n\")\n",
    "\n",
    "#Features\n",
    "print(cv.get_feature_names())\n",
    "print(\"\\n\")\n",
    "\n",
    "print(B_O_W)"
   ]
  },
  {
   "cell_type": "markdown",
   "metadata": {},
   "source": [
    "### TF-IDF\n",
    "TF-IDF stands for Term Frequency — Inverse Document Frequency, which is a scoring measure generally used in information retrieval (IR) and summarization. The TF-IDF score shows how important or relevant a term is in a given document.\n",
    "\n",
    "#### The intuition behind TF and IDF:\n",
    "If a particular word appears multiple times in a document, then it might have higher importance than the other words that appear fewer times (TF). At the same time, if a particular word appears many times in a document, but it is also present many times in some other documents, then maybe that word is frequent, so we cannot assign much importance to it. (IDF). For instance, we have a database of thousands of dog descriptions, and the user wants to search for “a cute dog” from our database. \n",
    "<br>The job of our search engine would be to display the closest response to the user query. How would a search engine do that? The search engine will possibly use TF-IDF to calculate the score for all of our descriptions, and the result with the higher score will be displayed as a response to the user. Now, this is the case when there is no exact match for the user’s query. If there is an exact match for the user query, then that result will be displayed first. Then, let’s suppose there are four descriptions available in our database.\n",
    "1. The furry dog.\n",
    "2. cute doggo.\n",
    "3. big dog.\n",
    "4. The lovely doggo.\n",
    "\n",
    "Notice that the first description contains 2 out of 3 words from our user query, and the second description contains 1 word from the query. The third description also contains 1 word, and the forth description contains no words from the user query. As we can sense that the closest answer to our query will be description number two, as it contains the essential word “cute” from the user’s query, this is how TF-IDF calculates the value.\n",
    "<br>Notice that the term frequency values are the same for all of the sentences since none of the words in any sentences repeat in the same sentence. So, in this case, the value of TF will not be instrumental. Next, we are going to use IDF values to get the closest answer to the query. Notice that the word dog or doggo can appear in many many documents. Therefore, the IDF value is going to be very low. Eventually, the TF-IDF value will also be lower. However, if we check the word “cute” in the dog descriptions, then it will come up relatively fewer times, so it increases the TF-IDF value. So the word “cute” has more discriminative power than “dog” or “doggo.” Then, our search engine will find the descriptions that have the word “cute” in it, and in the end, that is what the user was looking for.\n",
    "\n",
    "Simply put, the higher the TF*IDF score, the rarer or unique or valuable the term and vice versa.\n",
    "Now we are going to take a straightforward example and understand TF-IDF in more detail.\n",
    "\n",
    "Example:\n",
    "<br>Sentence 1: This is the first document.\n",
    "<br>Sentence 2: This document is the second document.\n",
    "<img src = \"https://miro.medium.com/max/530/0*0imyRGXWp6fn-q14.png\" width = 400>\n",
    "<img src = \"https://miro.medium.com/max/578/0*a436JBrJTQuhi81Y.png\" width = 400 align = \"left\">\n",
    "<img src = \"https://miro.medium.com/max/572/0*099C0l1lb4MM7Pp4.png\" width = 400 align = \" left\">\n",
    "<br>\n",
    "<img src = \"https://miro.medium.com/max/576/0*K2S7sYa7zEKwI3g-.png\" width = 400>\n",
    "<img src = \"https://miro.medium.com/max/594/0*O2N_qzk-kh7-H-TQ.png\" width = 400>\n",
    "<img src = \"https://miro.medium.com/max/575/0*SSrUhrX1iNa3d8B2.png\" width = 400>\n",
    "<img src = \"https://miro.medium.com/max/595/0*v1uxl3zcd-PxlQt9.png\" width = 400>\n",
    "In this case, notice that the import words that discriminate both the sentences are “first” in sentence-1 and “second” in sentence-2 as we can see, those words have a relatively higher value than other words.<br>\n",
    "However, there any many variations for smoothing out the values for large documents. The most common variation is to use a log value for TF-IDF. Let’s calculate the TF-IDF value again by using the new IDF value.\n",
    "<img src = \"https://miro.medium.com/max/633/0*XVqyo184bsL1Wl8E.png\" width = 400>\n",
    "<img src = \"https://miro.medium.com/max/626/0*FJtaWg30HwMWHSOZ.png\" width = 400 align = \"left\">\n",
    "<img src = \"https://miro.medium.com/max/617/0*0vuIV5YUjXHAYdy5.png\" width = 400 align = \" left\">\n",
    "As seen above, “first” and “second” values are important words that help us to distinguish between those two sentences.\n",
    "<img src = \"https://miro.medium.com/max/585/0*KOsiy9oFAlxrWxgm.png\" width = 400>\n",
    "<img src = \"https://miro.medium.com/max/637/0*DSpyWpadsYx_1fzK.png\" width = 400>\n",
    "<img src = \"https://miro.medium.com/max/606/0*19CoaalTK8QabWam.png\" width = 400>\n",
    "<img src = \"https://miro.medium.com/max/301/0*UE4oV5Mcg4FIZMZ9.png\" width = 200>\n",
    "<img src = \"https://miro.medium.com/max/643/0*fLJrZYNnzWKRURfp.png\" width = 400>"
   ]
  },
  {
   "cell_type": "code",
   "execution_count": 80,
   "metadata": {},
   "outputs": [
    {
     "name": "stdout",
     "output_type": "stream",
     "text": [
      "{'this': 5, 'is': 2, 'the': 4, 'first': 1, 'document': 0, 'second': 3}\n",
      "\n",
      "\n",
      "[[1.         1.40546511 1.         0.         1.         1.        ]\n",
      " [2.         0.         1.         1.40546511 1.         1.        ]]\n"
     ]
    }
   ],
   "source": [
    "from sklearn.feature_extraction.text import TfidfVectorizer\n",
    "\n",
    "sentences = ['This is the first document', 'This document is the second document']\n",
    "\n",
    "vectorizer = TfidfVectorizer(norm = None)\n",
    "\n",
    "# Generating output for TF_IDF\n",
    "X = vectorizer.fit_transform(sentences).toarray()\n",
    "\n",
    "print(vectorizer.vocabulary_)\n",
    "print(\"\\n\")\n",
    "\n",
    "print(X)"
   ]
  },
  {
   "cell_type": "code",
   "execution_count": null,
   "metadata": {},
   "outputs": [],
   "source": []
  }
 ],
 "metadata": {
  "kernelspec": {
   "display_name": "Python 3",
   "language": "python",
   "name": "python3"
  },
  "language_info": {
   "codemirror_mode": {
    "name": "ipython",
    "version": 3
   },
   "file_extension": ".py",
   "mimetype": "text/x-python",
   "name": "python",
   "nbconvert_exporter": "python",
   "pygments_lexer": "ipython3",
   "version": "3.7.6"
  }
 },
 "nbformat": 4,
 "nbformat_minor": 4
}
